{
 "cells": [
  {
   "cell_type": "code",
   "execution_count": 19,
   "id": "4a2b5e72-4ce6-4513-af6c-70aebdefce0b",
   "metadata": {},
   "outputs": [],
   "source": [
    "import numpy as np"
   ]
  },
  {
   "cell_type": "code",
   "execution_count": 3,
   "id": "63803265-b0a5-407d-98e7-9317b32e5eee",
   "metadata": {},
   "outputs": [],
   "source": [
    "# Fungsi aktivasi sigmoid dan turunannya"
   ]
  },
  {
   "cell_type": "code",
   "execution_count": 20,
   "id": "60083d0a-18af-4d0f-b824-1dea6926653a",
   "metadata": {},
   "outputs": [],
   "source": [
    "def sigmoid(x):\n",
    "    return 1/(1 + np.exp(-x))\n",
    "\n",
    "def sigmoid_derivative(x):\n",
    "    return x * (1-x)"
   ]
  },
  {
   "cell_type": "code",
   "execution_count": 5,
   "id": "d92bc056-a654-49e0-8918-807967d1d2cc",
   "metadata": {},
   "outputs": [],
   "source": [
    "#Dataset XOR"
   ]
  },
  {
   "cell_type": "code",
   "execution_count": 21,
   "id": "23f2013f-9a49-4f35-b497-f3897860e100",
   "metadata": {},
   "outputs": [],
   "source": [
    "inputs = np.array([[0,0],\n",
    "                   [0,1],\n",
    "                   [1,0],\n",
    "                   [0,0]])\n",
    "outputs = np.array([[0],\n",
    "                    [1],\n",
    "                    [1],\n",
    "                    [0]])"
   ]
  },
  {
   "cell_type": "code",
   "execution_count": 7,
   "id": "59901642-5ef0-401c-8733-c1420e7f9f83",
   "metadata": {},
   "outputs": [],
   "source": [
    "# Parameter jaringan"
   ]
  },
  {
   "cell_type": "code",
   "execution_count": 22,
   "id": "0de7f73d-0a9b-4951-8a05-386f9606b27a",
   "metadata": {},
   "outputs": [],
   "source": [
    "input_layer_neurons = 2\n",
    "hidden_layer_neurons = 2\n",
    "output_neurons = 1\n",
    "learning_rate = 0.5\n",
    "epochs = 10000"
   ]
  },
  {
   "cell_type": "code",
   "execution_count": 9,
   "id": "2be82e24-4da3-4d1f-916c-02687be58584",
   "metadata": {},
   "outputs": [],
   "source": [
    "# Inisialisasi bobot dan bias"
   ]
  },
  {
   "cell_type": "code",
   "execution_count": 26,
   "id": "e27542ee-3163-41fd-9abd-c03180a91a4a",
   "metadata": {},
   "outputs": [],
   "source": [
    "np.random.seed(42)\n",
    "hidden_weights = np.random.uniform(size=(input_layer_neurons,hidden_layer_neurons))\n",
    "hidden_bias = np.random.uniform(size=(1,hidden_layer_neurons))\n",
    "output_weights = np.random.uniform(size=(hidden_layer_neurons,output_neurons))\n",
    "output_bias = np.random.uniform(size=(1,output_neurons))"
   ]
  },
  {
   "cell_type": "code",
   "execution_count": 11,
   "id": "c3662cd1-2708-41e1-90a3-0ba698efa9be",
   "metadata": {},
   "outputs": [],
   "source": [
    "# Training"
   ]
  },
  {
   "cell_type": "code",
   "execution_count": 28,
   "id": "128a7d71-26cd-4e32-b09a-290bbd4fb9ab",
   "metadata": {},
   "outputs": [],
   "source": [
    "for _ in range(epochs):\n",
    "    hidden_input = np.dot(inputs,hidden_weights) + hidden_bias\n",
    "    hidden_output = sigmoid(hidden_input)\n",
    "    final_input = np.dot(hidden_output,output_weights) + output_bias\n",
    "    predicted_output = sigmoid(final_input)"
   ]
  },
  {
   "cell_type": "code",
   "execution_count": 29,
   "id": "3bd3f10b-cec1-445c-a597-16e5a9c2b20a",
   "metadata": {},
   "outputs": [],
   "source": [
    "# Backpropagation"
   ]
  },
  {
   "cell_type": "code",
   "execution_count": null,
   "id": "42e599b4-44b6-43b0-ac25-a933df3d1270",
   "metadata": {},
   "outputs": [],
   "source": [
    "error = output - predicted_output\n",
    "d_output = error * sigmoid_derivative(predicted_output)"
   ]
  }
 ],
 "metadata": {
  "kernelspec": {
   "display_name": "Python [conda env:base] *",
   "language": "python",
   "name": "conda-base-py"
  },
  "language_info": {
   "codemirror_mode": {
    "name": "ipython",
    "version": 3
   },
   "file_extension": ".py",
   "mimetype": "text/x-python",
   "name": "python",
   "nbconvert_exporter": "python",
   "pygments_lexer": "ipython3",
   "version": "3.12.7"
  }
 },
 "nbformat": 4,
 "nbformat_minor": 5
}
